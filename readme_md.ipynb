{
  "nbformat": 4,
  "nbformat_minor": 0,
  "metadata": {
    "colab": {
      "provenance": [],
      "authorship_tag": "ABX9TyPJ5lSde8pLHUUAwGvN8J4a",
      "include_colab_link": true
    },
    "kernelspec": {
      "name": "python3",
      "display_name": "Python 3"
    },
    "language_info": {
      "name": "python"
    }
  },
  "cells": [
    {
      "cell_type": "markdown",
      "metadata": {
        "id": "view-in-github",
        "colab_type": "text"
      },
      "source": [
        "<a href=\"https://colab.research.google.com/github/umeshmethre/AIML/blob/main/readme_md.ipynb\" target=\"_parent\"><img src=\"https://colab.research.google.com/assets/colab-badge.svg\" alt=\"Open In Colab\"/></a>"
      ]
    },
    {
      "cell_type": "markdown",
      "source": [
        "# umesh_aiml"
      ],
      "metadata": {
        "id": "8P_RWs1NQ7P7"
      }
    },
    {
      "cell_type": "code",
      "source": [
        "# umesh_aiml"
      ],
      "metadata": {
        "id": "JGQIn1LhRA8_"
      },
      "execution_count": 1,
      "outputs": []
    }
  ]
}