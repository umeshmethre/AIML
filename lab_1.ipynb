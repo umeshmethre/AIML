{
  "cells": [
    {
      "cell_type": "markdown",
      "metadata": {
        "id": "view-in-github",
        "colab_type": "text"
      },
      "source": [
        "<a href=\"https://colab.research.google.com/github/umeshmethre/AIML/blob/main/lab_1.ipynb\" target=\"_parent\"><img src=\"https://colab.research.google.com/assets/colab-badge.svg\" alt=\"Open In Colab\"/></a>"
      ]
    },
    {
      "cell_type": "code",
      "source": [
        "days=['Mon','Tue','Wed','Thu','Fri','Sat','Sun']\n",
        "len(days)\n"
      ],
      "metadata": {
        "id": "PshJe3kALT6g",
        "outputId": "6f09a241-1216-4965-9659-7373141b1612",
        "colab": {
          "base_uri": "https://localhost:8080/"
        }
      },
      "execution_count": null,
      "outputs": [
        {
          "output_type": "execute_result",
          "data": {
            "text/plain": [
              "7"
            ]
          },
          "metadata": {},
          "execution_count": 2
        }
      ]
    },
    {
      "cell_type": "code",
      "source": [
        "numbers=[1,2,3,4,5,6,7,8,22,1090]\n",
        "max(numbers)\n"
      ],
      "metadata": {
        "id": "_CBfWs0WLQ3Q",
        "outputId": "629b10e5-f5d3-44da-bb96-f6c4f9ec98f3",
        "colab": {
          "base_uri": "https://localhost:8080/"
        }
      },
      "execution_count": null,
      "outputs": [
        {
          "output_type": "execute_result",
          "data": {
            "text/plain": [
              "1090"
            ]
          },
          "metadata": {},
          "execution_count": 4
        }
      ]
    },
    {
      "cell_type": "code",
      "source": [
        "numbers=[1,2,3,4,5,6,7,8,22,190]\n",
        "sum(numbers)"
      ],
      "metadata": {
        "id": "VEn_rjOKL8E1",
        "outputId": "87755bd4-138a-46aa-a256-daeeaf97d773",
        "colab": {
          "base_uri": "https://localhost:8080/"
        }
      },
      "execution_count": null,
      "outputs": [
        {
          "output_type": "execute_result",
          "data": {
            "text/plain": [
              "248"
            ]
          },
          "metadata": {},
          "execution_count": 6
        }
      ]
    },
    {
      "cell_type": "code",
      "source": [
        "import random\n",
        "numbers=[1,2,3,4,5,6,7,8,22,190]\n",
        "random.shuffle(numbers)\n",
        "print(numbers)"
      ],
      "metadata": {
        "id": "2KM9aB86MGk8",
        "outputId": "fdf74b85-bf07-49b6-8051-d5569f9bb5ef",
        "colab": {
          "base_uri": "https://localhost:8080/"
        }
      },
      "execution_count": null,
      "outputs": [
        {
          "output_type": "stream",
          "name": "stdout",
          "text": [
            "[2, 4, 1, 190, 3, 5, 8, 6, 7, 22]\n"
          ]
        }
      ]
    },
    {
      "cell_type": "code",
      "source": [
        "a=[1,2,3]\n",
        "b=[6,7,8]\n",
        "c=a+b\n",
        "print(c)"
      ],
      "metadata": {
        "id": "APRymuWpNuCe",
        "outputId": "797a4354-cf00-4d0f-c17c-b2080944005a",
        "colab": {
          "base_uri": "https://localhost:8080/"
        }
      },
      "execution_count": null,
      "outputs": [
        {
          "output_type": "stream",
          "name": "stdout",
          "text": [
            "[1, 2, 3, 6, 7, 8]\n"
          ]
        }
      ]
    },
    {
      "cell_type": "code",
      "source": [
        "b=[6,7,8]\n",
        "a=5*b\n",
        "print(a)"
      ],
      "metadata": {
        "id": "ydp_nqfGN7VN",
        "outputId": "349762a1-b1a7-413d-9e62-ac0b0825b87d",
        "colab": {
          "base_uri": "https://localhost:8080/"
        }
      },
      "execution_count": null,
      "outputs": [
        {
          "output_type": "stream",
          "name": "stdout",
          "text": [
            "[6, 7, 8, 6, 7, 8, 6, 7, 8, 6, 7, 8, 6, 7, 8]\n"
          ]
        }
      ]
    },
    {
      "cell_type": "code",
      "source": [
        "days=['Mon','Tue','Wed','Thu','Fri','Sat','Sun']\n",
        "'Wed' in days"
      ],
      "metadata": {
        "id": "Y39GrM8zOEvN",
        "outputId": "22227d57-7ed6-4463-cd11-2ac42b9f19ff",
        "colab": {
          "base_uri": "https://localhost:8080/"
        }
      },
      "execution_count": null,
      "outputs": [
        {
          "output_type": "execute_result",
          "data": {
            "text/plain": [
              "True"
            ]
          },
          "metadata": {},
          "execution_count": 20
        }
      ]
    },
    {
      "cell_type": "code",
      "source": [
        "days=['Mon','Tue','Wed','Thu','Fri','Sat','Sun']\n",
        "'Wed' not in days"
      ],
      "metadata": {
        "id": "shW7-2F3ORqU",
        "outputId": "dc48f720-6e6f-475e-be6f-2127a8c1b76c",
        "colab": {
          "base_uri": "https://localhost:8080/"
        }
      },
      "execution_count": null,
      "outputs": [
        {
          "output_type": "execute_result",
          "data": {
            "text/plain": [
              "False"
            ]
          },
          "metadata": {},
          "execution_count": 21
        }
      ]
    },
    {
      "cell_type": "code",
      "source": [
        "import random\n",
        "numbers = [1,2,3,4,5,6,7,8,22,190]\n",
        "random.sample(numbers, 3)"
      ],
      "metadata": {
        "id": "p8zz_CxVOnkl",
        "outputId": "c7103eb7-8891-4991-e3ec-5da71eb5bc7b",
        "colab": {
          "base_uri": "https://localhost:8080/"
        }
      },
      "execution_count": null,
      "outputs": [
        {
          "output_type": "execute_result",
          "data": {
            "text/plain": [
              "[6, 7, 22]"
            ]
          },
          "metadata": {},
          "execution_count": 23
        }
      ]
    },
    {
      "cell_type": "code",
      "source": [
        "del[days[5]]\n",
        "days"
      ],
      "metadata": {
        "id": "zWKBuejVOtBl",
        "outputId": "21e086c3-27af-44c4-85a5-dce024cb3e90",
        "colab": {
          "base_uri": "https://localhost:8080/"
        }
      },
      "execution_count": null,
      "outputs": [
        {
          "output_type": "execute_result",
          "data": {
            "text/plain": [
              "['Mon', 'Wed', 'Thu', 'Fri', 'Sat']"
            ]
          },
          "metadata": {},
          "execution_count": 25
        }
      ]
    },
    {
      "cell_type": "code",
      "source": [
        "numbers = [1,2,3,4,5,6,7,8,22,190]\n",
        "print(numbers)\n",
        "numbers.append(100)\n",
        "print(numbers)"
      ],
      "metadata": {
        "id": "Wh5jtXMbO_EV",
        "outputId": "c51b6b9f-b593-41e9-d9ea-346831bc434d",
        "colab": {
          "base_uri": "https://localhost:8080/"
        }
      },
      "execution_count": null,
      "outputs": [
        {
          "output_type": "stream",
          "name": "stdout",
          "text": [
            "[1, 2, 3, 4, 5, 6, 7, 8, 22, 190]\n",
            "[1, 2, 3, 4, 5, 6, 7, 8, 22, 190, 100]\n"
          ]
        }
      ]
    },
    {
      "cell_type": "code",
      "source": [
        "numbers = [1,2,3,4,5,6,7,8,22,190]\n",
        "print(numbers)\n",
        "numbers.clear()\n",
        "print(numbers)"
      ],
      "metadata": {
        "id": "5m_59wINQDza",
        "outputId": "67e11c3e-bc3d-4997-c9cd-0104fc03d670",
        "colab": {
          "base_uri": "https://localhost:8080/"
        }
      },
      "execution_count": null,
      "outputs": [
        {
          "output_type": "stream",
          "name": "stdout",
          "text": [
            "[1, 2, 3, 4, 5, 6, 7, 8, 22, 190]\n",
            "[]\n"
          ]
        }
      ]
    },
    {
      "cell_type": "code",
      "source": [
        "numbers = [1,1,1,4,5,6,7,8,22,1]\n",
        "numbers.count(1)"
      ],
      "metadata": {
        "id": "jELncs_5QNkt",
        "outputId": "60a32b09-2fd7-4848-83b9-6ef50e5c9f1b",
        "colab": {
          "base_uri": "https://localhost:8080/"
        }
      },
      "execution_count": null,
      "outputs": [
        {
          "output_type": "execute_result",
          "data": {
            "text/plain": [
              "4"
            ]
          },
          "metadata": {},
          "execution_count": 33
        }
      ]
    },
    {
      "cell_type": "code",
      "source": [
        "list1 = [1,2,3,4,5,6,7,8,22,190]\n",
        "list2=list1.copy()\n",
        "print(list2)"
      ],
      "metadata": {
        "id": "F6qpbSJjQqb-",
        "outputId": "dd8ab863-8017-4574-c3bc-410c638a486a",
        "colab": {
          "base_uri": "https://localhost:8080/"
        }
      },
      "execution_count": null,
      "outputs": [
        {
          "output_type": "stream",
          "name": "stdout",
          "text": [
            "[1, 2, 3, 4, 5, 6, 7, 8, 22, 190]\n"
          ]
        }
      ]
    },
    {
      "cell_type": "markdown",
      "source": [
        "A=[89,78,67,56,45]\n",
        "B=[78,89,67,56,45]\n",
        "A.extend(B)\n",
        "print(A)"
      ],
      "metadata": {
        "id": "blpuGcccRAH9"
      }
    },
    {
      "cell_type": "markdown",
      "source": [
        "A=[89,78,67,56,45]\n",
        "B=[78,89,67,56,45]\n",
        "A.extend(B)\n",
        "print(A)"
      ],
      "metadata": {
        "id": "9TbfVaLQRn39"
      }
    },
    {
      "cell_type": "code",
      "source": [
        "a=(7,)\n",
        "a1=(7)\n",
        "print(type(a1))\n",
        "print(a)\n",
        "print(type(a))"
      ],
      "metadata": {
        "id": "HanO6V49Rw21",
        "outputId": "8fd156e0-7294-41d3-a11c-f265239725f7",
        "colab": {
          "base_uri": "https://localhost:8080/"
        }
      },
      "execution_count": null,
      "outputs": [
        {
          "output_type": "stream",
          "name": "stdout",
          "text": [
            "<class 'int'>\n",
            "(7,)\n",
            "<class 'tuple'>\n"
          ]
        }
      ]
    },
    {
      "cell_type": "code",
      "source": [
        "a=(1,2,3,4,5)\n",
        "print(a) #tuple can take multiple elements"
      ],
      "metadata": {
        "id": "uAM4WoJrSNrO",
        "outputId": "2cd8573b-2491-4489-8129-87f91530edf4",
        "colab": {
          "base_uri": "https://localhost:8080/"
        }
      },
      "execution_count": null,
      "outputs": [
        {
          "output_type": "stream",
          "name": "stdout",
          "text": [
            "(1, 2, 3, 4, 5)\n"
          ]
        }
      ]
    },
    {
      "cell_type": "code",
      "source": [
        "b=(1,2,3,4,5)\n",
        "print(b)"
      ],
      "metadata": {
        "id": "Inn2QYJJSZBN",
        "outputId": "4969d07e-11bd-4947-baa9-25c81c831350",
        "colab": {
          "base_uri": "https://localhost:8080/"
        }
      },
      "execution_count": null,
      "outputs": [
        {
          "output_type": "stream",
          "name": "stdout",
          "text": [
            "(1, 2, 3, 4, 5)\n"
          ]
        }
      ]
    },
    {
      "cell_type": "code",
      "source": [
        "mix=(1,2,'a',7.8,'b')\n",
        "print(mix)"
      ],
      "metadata": {
        "id": "v0jGPLxiSk6k",
        "outputId": "3416ed66-3e40-4602-d670-119bae17032a",
        "colab": {
          "base_uri": "https://localhost:8080/"
        }
      },
      "execution_count": null,
      "outputs": [
        {
          "output_type": "stream",
          "name": "stdout",
          "text": [
            "(1, 2, 'a', 7.8, 'b')\n"
          ]
        }
      ]
    },
    {
      "cell_type": "code",
      "source": [
        "mix=(1,2,'a',7.8,'b')\n",
        "print(mix[2])"
      ],
      "metadata": {
        "id": "9chPlBxuSxGF",
        "outputId": "96a3a205-4013-493d-dfbe-76ac973bc831",
        "colab": {
          "base_uri": "https://localhost:8080/"
        }
      },
      "execution_count": null,
      "outputs": [
        {
          "output_type": "stream",
          "name": "stdout",
          "text": [
            "a\n"
          ]
        }
      ]
    },
    {
      "cell_type": "code",
      "source": [
        "a={\n",
        "    'name':\"vishwas\",\n",
        "    'age':20,\n",
        "    'gender':\"male\",\n",
        "    'country':\"india\"\n",
        "}\n",
        "\n",
        "a[\"three\"] = 3\n",
        "print(a)"
      ],
      "metadata": {
        "id": "DLclcxTuTl79",
        "outputId": "7ad63ef0-4816-48e2-d7a9-ef2dcaf41e98",
        "colab": {
          "base_uri": "https://localhost:8080/"
        }
      },
      "execution_count": null,
      "outputs": [
        {
          "output_type": "stream",
          "name": "stdout",
          "text": [
            "{'name': 'vishwas', 'age': 20, 'gender': 'male', 'country': 'india', 'three': 3}\n"
          ]
        }
      ]
    },
    {
      "cell_type": "code",
      "source": [
        "\n",
        "a={1,2,3,4,5,6,8,2,2,2,2,2,2,2,2,2,2}\n",
        "print(a)\n",
        "print(type(a))\n",
        "\n",
        "a={1,2,3,4,5,1,2,3}\n",
        "print(a)\n"
      ],
      "metadata": {
        "id": "FJP09S6QUxaV",
        "outputId": "2a09895a-f10b-4837-d455-8f53c895bccd",
        "colab": {
          "base_uri": "https://localhost:8080/"
        }
      },
      "execution_count": null,
      "outputs": [
        {
          "output_type": "stream",
          "name": "stdout",
          "text": [
            "{1, 2, 3, 4, 5, 6, 8}\n",
            "<class 'set'>\n",
            "{1, 2, 3, 4, 5}\n"
          ]
        }
      ]
    },
    {
      "cell_type": "code",
      "source": [
        "v=25//4\n",
        "print(v)"
      ],
      "metadata": {
        "id": "tKf20l7kVFeH",
        "outputId": "a29c6f09-9fea-4e8b-c8bc-fe9a535782be",
        "colab": {
          "base_uri": "https://localhost:8080/"
        }
      },
      "execution_count": null,
      "outputs": [
        {
          "output_type": "stream",
          "name": "stdout",
          "text": [
            "6\n"
          ]
        }
      ]
    },
    {
      "cell_type": "code",
      "source": [
        "def add(a,b):\n",
        "    return a-b\n",
        "\n",
        "add(2,3)\n"
      ],
      "metadata": {
        "id": "VSZH1fAJWS7N",
        "outputId": "b8fd8184-4978-4d73-ba52-2886e4a06338",
        "colab": {
          "base_uri": "https://localhost:8080/"
        }
      },
      "execution_count": null,
      "outputs": [
        {
          "output_type": "execute_result",
          "data": {
            "text/plain": [
              "-1"
            ]
          },
          "metadata": {},
          "execution_count": 60
        }
      ]
    }
  ],
  "metadata": {
    "colab": {
      "provenance": [],
      "toc_visible": true,
      "include_colab_link": true
    },
    "kernelspec": {
      "display_name": "Python 3",
      "name": "python3"
    }
  },
  "nbformat": 4,
  "nbformat_minor": 0
}